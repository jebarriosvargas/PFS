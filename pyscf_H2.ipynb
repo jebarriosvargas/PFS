{
  "cells": [
    {
      "attachments": {},
      "cell_type": "markdown",
      "metadata": {},
      "source": [
        "# Molécula $H_2$"
      ]
    },
    {
      "cell_type": "code",
      "execution_count": 25,
      "metadata": {
        "id": "wnpuPCoR_aF3"
      },
      "outputs": [],
      "source": [
        "# Importación de las librerías\n",
        "#---\n",
        "from pylab import * # Librerías numpy,scipy y matplotlib\n",
        "import pyscf        # Librería pyscf\n",
        "from pyscf import scf"
      ]
    },
    {
      "attachments": {},
      "cell_type": "markdown",
      "metadata": {
        "id": "oP1j8vR2_jBZ"
      },
      "source": [
        "# Geometría de la molécula diatómica ${\\rm H}_2$\n",
        "\n",
        "|Átomo| X[Å] | Y[Å] | Z[Å] |\n",
        "|-|-|-|-|\n",
        "H|0.0000|0.0000|0.0000|\n",
        "H|0.0000|0.0000|0.7414|\n"
      ]
    },
    {
      "cell_type": "code",
      "execution_count": 26,
      "metadata": {
        "id": "ian9LX0DAx7x"
      },
      "outputs": [],
      "source": [
        "# Definición de la clase mole (molecule)\n",
        "# útil para manipular los parámetros \n",
        "# y atributos de las integrales GTO.\n",
        "H2 = pyscf.gto.Mole(atom = \"\"\"\n",
        "    H 0.0000  0.0000 0.0000\n",
        "    H 0.0000  0.0000 0.7414 \n",
        "    \"\"\",basis = \"STO-3G\")\n",
        "# ¿Qué significa base STO-3G?\n",
        "\n",
        "# Define la molécula con la geometría \n",
        "# y ahora puede calcularse la Energía\n",
        "H2 = H2.build()"
      ]
    },
    {
      "cell_type": "code",
      "execution_count": 27,
      "metadata": {
        "colab": {
          "base_uri": "https://localhost:8080/"
        },
        "id": "O1TLl2OPA7im",
        "outputId": "3cd6999e-bc3b-4fa6-def4-6cc80afdd44c"
      },
      "outputs": [
        {
          "name": "stdout",
          "output_type": "stream",
          "text": [
            "converged SCF energy = -1.11668438708534\n"
          ]
        },
        {
          "data": {
            "text/plain": [
              "-1.1166843870853405"
            ]
          },
          "execution_count": 27,
          "metadata": {},
          "output_type": "execute_result"
        }
      ],
      "source": [
        "# Define el método de cálculo con la geometría\n",
        "rhf = scf.RHF(H2)\n",
        "# ¿Qué significa RHF?\n",
        "# Restricted Hartree Fock\n",
        "\n",
        "# Ejecuta el método definido y regresa la \n",
        "# Energía convergida.\n",
        "rhf.kernel(print=False)\n",
        "\n",
        "# Las unidades de la energia son Hartree\n",
        "# 1 Hartree = 27.211 eV\n",
        "\n",
        "# Los Hartree son las unidades atomicas de la energia"
      ]
    },
    {
      "attachments": {},
      "cell_type": "markdown",
      "metadata": {
        "id": "-fPKaTnlEMAd"
      },
      "source": [
        "# Variación de la geometría"
      ]
    },
    {
      "cell_type": "code",
      "execution_count": 28,
      "metadata": {
        "colab": {
          "base_uri": "https://localhost:8080/"
        },
        "id": "nY-DgulLBGGV",
        "outputId": "b299ce71-d6de-4bfd-bb79-d800576216f9"
      },
      "outputs": [
        {
          "name": "stdout",
          "output_type": "stream",
          "text": [
            "converged SCF energy = -0.656048251145591\n"
          ]
        },
        {
          "data": {
            "text/plain": [
              "-0.656048251145591"
            ]
          },
          "execution_count": 28,
          "metadata": {},
          "output_type": "execute_result"
        }
      ],
      "source": [
        "d = 3.0 # angstroms\n",
        "H2 = pyscf.gto.Mole(atom = \"\"\"\n",
        "    H 0.0000  0.0000 0.0000\n",
        "    H 0.0000  0.0000 {0:.4f} \n",
        "    \"\"\".format(d),basis = \"STO-3G\")\n",
        "H2  = H2.build()\n",
        "rhf = scf.RHF(H2)\n",
        "rhf.kernel()"
      ]
    },
    {
      "attachments": {},
      "cell_type": "markdown",
      "metadata": {
        "id": "FcjmSiBtErBL"
      },
      "source": [
        "# Función que devuelve la energía\n"
      ]
    },
    {
      "cell_type": "code",
      "execution_count": 29,
      "metadata": {
        "id": "2ppgN5p6EH0y"
      },
      "outputs": [],
      "source": [
        "def SCFenergia(d=0.7414):\n",
        "  H2 = pyscf.gto.Mole(atom = \"\"\"\n",
        "      H 0.0000  0.0000 0.0000\n",
        "      H 0.0000  0.0000 {0:.4f} \n",
        "      \"\"\".format(d),basis = \"STO-3G\")\n",
        "  H2  = H2.build()\n",
        "  rhf = scf.RHF(H2)\n",
        "  rhf.verbose = 0 \n",
        "  SCFe = rhf.kernel()\n",
        "  return SCFe"
      ]
    },
    {
      "cell_type": "code",
      "execution_count": 30,
      "metadata": {
        "id": "nTExXbFgE7N_"
      },
      "outputs": [],
      "source": [
        "# Separación entre átomos de H\n",
        "d = linspace(0.4,3.0,301) # angstroms"
      ]
    },
    {
      "cell_type": "code",
      "execution_count": 31,
      "metadata": {
        "colab": {
          "base_uri": "https://localhost:8080/"
        },
        "id": "ZA3XBhh7FF1z",
        "outputId": "ab086130-b552-4de6-99d9-6461f54961d5"
      },
      "outputs": [],
      "source": [
        "# Evaluación de la Energía\n",
        "E = list( map(SCFenergia,d))"
      ]
    },
    {
      "cell_type": "code",
      "execution_count": 32,
      "metadata": {
        "colab": {
          "base_uri": "https://localhost:8080/",
          "height": 299
        },
        "id": "Vo7Q6c2qFMLk",
        "outputId": "5da69341-34e2-4a46-9141-bbad32808636"
      },
      "outputs": [
        {
          "data": {
            "text/plain": [
              "Text(0, 0.5, 'E [Ha]')"
            ]
          },
          "execution_count": 32,
          "metadata": {},
          "output_type": "execute_result"
        },
        {
          "data": {
            "image/png": "[encoded data removed]",
            "text/plain": [
              "<Figure size 640x480 with 1 Axes>"
            ]
          },
          "metadata": {},
          "output_type": "display_data"
        }
      ],
      "source": [
        "plot(d,E,'o-')\n",
        "xlabel('d [Å]')\n",
        "ylabel('E [Ha]')"
      ]
    }
  ],
  "metadata": {
    "colab": {
      "provenance": []
    },
    "kernelspec": {
      "display_name": "Python 3",
      "name": "python3"
    },
    "language_info": {
      "codemirror_mode": {
        "name": "ipython",
        "version": 3
      },
      "file_extension": ".py",
      "mimetype": "text/x-python",
      "name": "python",
      "nbconvert_exporter": "python",
      "pygments_lexer": "ipython3",
      "version": "3.11.0"
    }
  },
  "nbformat": 4,
  "nbformat_minor": 0
}
