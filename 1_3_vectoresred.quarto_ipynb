{
  "cells": [
    {
      "cell_type": "markdown",
      "metadata": {},
      "source": [
        "# Vectores de red\n",
        "\n",
        ":::{.justify}\n",
        "En el presente documento exploraremos que dada una red, **los vectores de red no son únicos**. Por efectos visuales, consideremos el ejemplo de la siguiente red bidimensional.\n",
        ":::\n",
        "\n",
        "## Opción 1\n",
        "$$\n",
        "\\vec{a}_1=\\left[\\begin{array}{c}1\\\\0\\end{array} \\right] \\quad \\text{y} \\quad \\vec{a}_2=\\left[\\begin{array}{c}\\cos(60^\\circ)\\\\\\sin(60^\\circ)\\end{array} \\right]\n",
        "$$\n"
      ],
      "id": "0c66ec94"
    },
    {
      "cell_type": "code",
      "metadata": {},
      "source": [
        "#| label: fig-vectoresred2d1\n",
        "#| fig-cap: Ejemplo de red bidimensional\n",
        "\n",
        "from pylab import *\n",
        "\n",
        "def GraficadeRed(vec_a1,vec_a2):\n",
        "    n1,n2 = meshgrid ( arange( -12, 13 ), arange( -12,13 ) )\n",
        "    n1 = n1.flatten()\n",
        "    n2 = n2.flatten()\n",
        "    A = array( [vec_a1,vec_a2] )\n",
        "    coefs = column_stack((n1,n2))\n",
        "    red = dot( coefs,A )\n",
        "\n",
        "    a1 = sqrt(dot(vec_a1,vec_a1))\n",
        "    a2 = sqrt(dot(vec_a2,vec_a2))\n",
        "\n",
        "    fig,ax = plt.subplots(figsize=((6,6)))\n",
        "    ax.scatter(red.T[0], red.T[1], label=f\"$a_1={a1:.2f}, a_2={a2:.2f}, θ={rad2deg(θ):.1f}$\")\n",
        "    ax.arrow(0,0,vec_a1[0],vec_a1[1],width=0.08,lw=0,label=\"vec $a_1$\",color=\"red\",length_includes_head=True)\n",
        "    ax.arrow(0,0,vec_a2[0],vec_a2[1],width=0.08,lw=0,label=\"vec $a_2$\",color=\"blue\",length_includes_head=True)\n",
        "    ax.legend()\n",
        "    ax.set_xlim(-6.4,6.4)\n",
        "    ax.set_ylim(-3.4,3.4)\n",
        "    ax.set_aspect('equal')\n",
        "    plt.show()\n",
        "    return \n",
        "\n",
        "a1 = 1.0\n",
        "a2 = 1.0\n",
        "vec_a1 = array([       a1,         0])\n",
        "θ = radians(60)\n",
        "vec_a2 = array([a2*cos(θ), a2*sin(θ)])\n",
        "\n",
        "GraficadeRed(vec_a1,vec_a2)"
      ],
      "id": "fig-vectoresred2d1",
      "execution_count": null,
      "outputs": []
    },
    {
      "cell_type": "markdown",
      "metadata": {},
      "source": [
        "## Opción 2\n",
        "Alternativamente, podemos elegir \n",
        "\n",
        "$$\n",
        "\\vec{a}_1=\\left[\\begin{array}{c}1\\\\0\\end{array} \\right] \\quad \\text{y} \\quad \\vec{a}_2=\\left[\\begin{array}{c}\\cos(120^\\circ)\\\\\\sin(120^\\circ)\\end{array} \\right]\n",
        "$$\n",
        "\n",
        "y obtener la misma red \n"
      ],
      "id": "2e939204"
    },
    {
      "cell_type": "code",
      "metadata": {},
      "source": [
        "#| label: fig-vectoresred2d2\n",
        "#| fig-cap: Ejemplo de red bidimensional\n",
        "\n",
        "a1 = 1.0\n",
        "a2 = 1.0\n",
        "vec_a1 = array([       a1,         0])\n",
        "θ = radians(120)\n",
        "vec_a2 = array([a2*cos(θ), a2*sin(θ)])\n",
        "GraficadeRed(vec_a1,vec_a2)"
      ],
      "id": "fig-vectoresred2d2",
      "execution_count": null,
      "outputs": []
    },
    {
      "cell_type": "markdown",
      "metadata": {},
      "source": [
        "## Opción 3\n",
        "Otra opción posible es\n",
        "$$\n",
        "\\vec{a}_1=\\left[\\begin{array}{c}0\\\\\\sqrt{3}\\end{array} \\right] \\quad \\text{y} \\quad \\vec{a}_2=\\left[\\begin{array}{c}\\cos(120^\\circ)\\\\\\sin(120^\\circ)\\end{array} \\right]\n",
        "$$\n"
      ],
      "id": "889cafa8"
    },
    {
      "cell_type": "code",
      "metadata": {},
      "source": [
        "#| label: fig-vectoresred2d3\n",
        "#| fig-cap: Ejemplo de red bidimensional\n",
        "\n",
        "a1 = sqrt(3.0)\n",
        "a2 = 1.0\n",
        "vec_a1 = array([       0, a1])\n",
        "θ = radians(120)\n",
        "vec_a2 = array([a2*cos(θ), a2*sin(θ)])\n",
        "GraficadeRed(vec_a1,vec_a2)"
      ],
      "id": "fig-vectoresred2d3",
      "execution_count": null,
      "outputs": []
    },
    {
      "cell_type": "markdown",
      "metadata": {},
      "source": [
        "## Opción 4\n",
        "Una opción más es\n",
        "$$\n",
        "\\vec{a}_1=\\left[\\begin{array}{c}5/2\\\\\\sqrt{3}/2\\end{array} \\right] \\quad \\text{y} \\quad \\vec{a}_2=\\left[\\begin{array}{c}3/2\\\\\\sqrt{3}/2\\end{array} \\right]\n",
        "$$\n"
      ],
      "id": "bce8387e"
    },
    {
      "cell_type": "code",
      "metadata": {},
      "source": [
        "#| label: fig-vectoresred2d4\n",
        "#| fig-cap: Ejemplo de red bidimensional\n",
        "\n",
        "vec_a1 = array([5/2, sqrt(3)/2])\n",
        "vec_a2 = array([3/2, sqrt(3)/2])\n",
        "GraficadeRed(vec_a1,vec_a2)"
      ],
      "id": "fig-vectoresred2d4",
      "execution_count": null,
      "outputs": []
    },
    {
      "cell_type": "markdown",
      "metadata": {},
      "source": [
        "::: {.callout-warning appearance=\"simple\" icon=false collapse=\"false\"}\n",
        "## Observación.\n",
        "Notamos que en las diferentes opciones los vectores de red pueden ser de tamaños diferentes. Ahora nos preguntamos, ¿qué pasa con el área del paralelogramo formado por los vectores de la red? ¿es diferente?\n",
        ":::\n",
        "\n",
        "Una forma de determinar el área del paralelogramo formado por los vectores de la red es utilizando el determinante de la matriz $A$ couyos reglones son los vectores de la red.\n",
        "\n",
        "::: {.callout-tip appearance=\"simple\" icon=false collapse=\"false\"}\n",
        "Sea \n",
        "$$\n",
        "A= \\left[ \\begin{array}{c} \\quad\\vec{a}_1\\quad\\\\ \\vec{a}_2\\end{array}\\right] =\n",
        "\\left[ \\begin{array}{cc} a_{1x}&a_{1y}\\\\a_{2x}&a_{2y}  \\end{array}  \\right]\n",
        "$$\n",
        "entonces el área del paralelogramo es,\n",
        "$$\n",
        "\\text{Área del paralelogramo} = {\\rm det}\\, A \n",
        "$$\n",
        ":::\n",
        "\n",
        "Calculemos el área de las diferentes opciones anteriores\n"
      ],
      "id": "0736caac"
    },
    {
      "cell_type": "code",
      "metadata": {},
      "source": [
        "# Opción 1\n",
        "a1 = 1.0\n",
        "a2 = 1.0\n",
        "vec_a1 = array([       a1,         0])\n",
        "θ = radians(60)\n",
        "vec_a2 = array([a2*cos(θ), a2*sin(θ)])\n",
        "A = array( [vec_a1,vec_a2] )\n",
        "print (\"Opción 1\", det(A))\n",
        "# Opción 2\n",
        "a1 = 1.0\n",
        "a2 = 1.0\n",
        "vec_a1 = array([       a1,         0])\n",
        "θ = radians(120)\n",
        "vec_a2 = array([a2*cos(θ), a2*sin(θ)])\n",
        "A = array( [vec_a1,vec_a2] )\n",
        "print (\"Opción 1\", det(A))\n",
        "# Opción 3\n",
        "a1 = sqrt(3.0)\n",
        "a2 = 1.0\n",
        "vec_a1 = array([       0, a1])\n",
        "θ = radians(120)\n",
        "vec_a2 = array([a2*cos(θ), a2*sin(θ)])\n",
        "A = array( [vec_a1,vec_a2] )\n",
        "print (\"Opción 3\", det(A))\n",
        "# Opción 4\n",
        "vec_a1 = array([5/2, sqrt(3)/2])\n",
        "vec_a2 = array([3/2, sqrt(3)/2])\n",
        "A = array( [vec_a1,vec_a2] )\n",
        "print (\"Opción 4\", det(A))"
      ],
      "id": "d2345777",
      "execution_count": null,
      "outputs": []
    }
  ],
  "metadata": {
    "kernelspec": {
      "name": "python3",
      "language": "python",
      "display_name": "Python 3 (ipykernel)",
      "path": "/opt/anaconda3/share/jupyter/kernels/python3"
    }
  },
  "nbformat": 4,
  "nbformat_minor": 5
}